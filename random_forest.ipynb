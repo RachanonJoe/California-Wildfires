{
 "cells": [
  {
   "cell_type": "code",
   "execution_count": 32,
   "metadata": {},
   "outputs": [],
   "source": [
    "import pandas as pd\n",
    "from sklearn.model_selection import train_test_split\n",
    "from imblearn.over_sampling import SMOTE\n",
    "from sklearn.preprocessing import LabelEncoder, StandardScaler\n",
    "from sklearn.ensemble import RandomForestClassifier\n",
    "from sklearn.model_selection import GridSearchCV\n",
    "from sklearn.metrics import accuracy_score, classification_report"
   ]
  },
  {
   "cell_type": "code",
   "execution_count": 33,
   "metadata": {},
   "outputs": [
    {
     "name": "stderr",
     "output_type": "stream",
     "text": [
      "/var/folders/_1/nrm1y7js22bdlyxkt1mzg_p40000gn/T/ipykernel_80283/1670613540.py:2: DtypeWarning: Columns (13,37,38) have mixed types. Specify dtype option on import or set low_memory=False.\n",
      "  df = pd.read_csv('/Users/rachanon.cho/Documents/Kaggle Practice/California Wildfires/data/cal_wildfire.csv')\n"
     ]
    },
    {
     "name": "stdout",
     "output_type": "stream",
     "text": [
      "<class 'pandas.core.frame.DataFrame'>\n",
      "RangeIndex: 100230 entries, 0 to 100229\n",
      "Data columns (total 47 columns):\n",
      " #   Column                                                        Non-Null Count   Dtype  \n",
      "---  ------                                                        --------------   -----  \n",
      " 0   _id                                                           100230 non-null  int64  \n",
      " 1   OBJECTID                                                      100230 non-null  int64  \n",
      " 2   * Damage                                                      100230 non-null  object \n",
      " 3   * Street Number                                               95810 non-null   float64\n",
      " 4   * Street Name                                                 94752 non-null   object \n",
      " 5   * Street Type (e.g. road, drive, lane, etc.)                  93525 non-null   object \n",
      " 6   Street Suffix (e.g. apt. 23, blding C)                        44149 non-null   object \n",
      " 7   * City                                                        68617 non-null   object \n",
      " 8   State                                                         100223 non-null  object \n",
      " 9   Zip Code                                                      47429 non-null   float64\n",
      " 10  * CAL FIRE Unit                                               100230 non-null  object \n",
      " 11  County                                                        100200 non-null  object \n",
      " 12  Community                                                     52902 non-null   object \n",
      " 13  Battalion                                                     6398 non-null    object \n",
      " 14  * Incident Name                                               100230 non-null  object \n",
      " 15  Incident Number (e.g. CAAEU 123456)                           100230 non-null  object \n",
      " 16  Incident Start Date                                           100230 non-null  object \n",
      " 17  Hazard Type                                                   100230 non-null  object \n",
      " 18  If Affected 1-9% - Where did fire start?                      10740 non-null   object \n",
      " 19  If Affected 1-9% - What started fire?                         9016 non-null    object \n",
      " 20  Structure Defense Actions Taken                               24470 non-null   object \n",
      " 21  * Structure Type                                              100230 non-null  object \n",
      " 22  Structure Category                                            100230 non-null  object \n",
      " 23  # Units in Structure (if multi unit)                          31184 non-null   float64\n",
      " 24  # of Damaged Outbuildings < 120 SQFT                          31085 non-null   float64\n",
      " 25  # of Non Damaged Outbuildings < 120 SQFT                      31073 non-null   float64\n",
      " 26  * Roof Construction                                           99602 non-null   object \n",
      " 27  * Eaves                                                       99118 non-null   object \n",
      " 28  * Vent Screen                                                 99032 non-null   object \n",
      " 29  * Exterior Siding                                             99321 non-null   object \n",
      " 30  * Window Pane                                                 99254 non-null   object \n",
      " 31  * Deck/Porch On Grade                                         100230 non-null  object \n",
      " 32  * Deck/Porch Elevated                                         100230 non-null  object \n",
      " 33  * Patio Cover/Carport Attached to Structure                   100230 non-null  object \n",
      " 34  * Fence Attached to Structure                                 78635 non-null   object \n",
      " 35  Distance - Propane Tank to Structure                          23057 non-null   object \n",
      " 36  Distance - Residence to Utility/Misc Structure &gt; 120 SQFT  14356 non-null   object \n",
      " 37  Fire Name (Secondary)                                         21171 non-null   object \n",
      " 38  APN (parcel)                                                  99655 non-null   object \n",
      " 39  Assessed Improved Value (parcel)                              94195 non-null   float64\n",
      " 40  Year Built (parcel)                                           69812 non-null   float64\n",
      " 41  Site Address (parcel)                                         95646 non-null   object \n",
      " 42  GLOBALID                                                      100230 non-null  object \n",
      " 43  Latitude                                                      100230 non-null  float64\n",
      " 44  Longitude                                                     100230 non-null  float64\n",
      " 45  x                                                             100230 non-null  float64\n",
      " 46  y                                                             100230 non-null  float64\n",
      "dtypes: float64(11), int64(2), object(34)\n",
      "memory usage: 35.9+ MB\n"
     ]
    }
   ],
   "source": [
    "# import data\n",
    "df = pd.read_csv('/Users/rachanon.cho/Documents/Kaggle Practice/California Wildfires/data/cal_wildfire.csv')\n",
    "df.info()"
   ]
  },
  {
   "cell_type": "code",
   "execution_count": 34,
   "metadata": {},
   "outputs": [],
   "source": [
    "# Define the target variable\n",
    "TARGET_COLUMN = '* Damage'\n",
    "\n",
    "# Remove 'Inaccessible' entries from target variable\n",
    "df = df[df[TARGET_COLUMN] != 'Inaccessible']\n",
    "\n",
    "# Merge similar damage categories\n",
    "df[TARGET_COLUMN] = df[TARGET_COLUMN].replace(\n",
    "    ['Minor (10-25%)', 'Major (26-50%)', 'Affected (1-9%)'], 'Affected')\n",
    "df[TARGET_COLUMN] = df[TARGET_COLUMN].replace(['Destroyed (>50%)'], 'Destroyed')\n"
   ]
  },
  {
   "cell_type": "code",
   "execution_count": 35,
   "metadata": {},
   "outputs": [],
   "source": [
    "# Encoding target variable (convert labels to numbers)\n",
    "label_encoder = LabelEncoder()\n",
    "df[TARGET_COLUMN] = label_encoder.fit_transform(df[TARGET_COLUMN])\n",
    "\n",
    "# Select relevant features (modify as needed)\n",
    "FEATURE_COLUMNS = ['# Units in Structure (if multi unit)', 'Assessed Improved Value (parcel)', 'Latitude', 'Longitude']\n",
    "df = df[FEATURE_COLUMNS + [TARGET_COLUMN]].dropna()"
   ]
  },
  {
   "cell_type": "code",
   "execution_count": 36,
   "metadata": {},
   "outputs": [],
   "source": [
    "# Split dataset into train and test sets\n",
    "X = df[FEATURE_COLUMNS]\n",
    "y = df[TARGET_COLUMN]\n",
    "X_train, X_test, y_train, y_test = train_test_split(X, y, test_size=0.2, random_state=42)\n"
   ]
  },
  {
   "cell_type": "code",
   "execution_count": 37,
   "metadata": {},
   "outputs": [],
   "source": [
    "# Apply SMOTE to balance classes\n",
    "smote = SMOTE(random_state=42)\n",
    "X_train, y_train = smote.fit_resample(X_train, y_train)"
   ]
  },
  {
   "cell_type": "code",
   "execution_count": 38,
   "metadata": {},
   "outputs": [
    {
     "name": "stdout",
     "output_type": "stream",
     "text": [
      "Dataset prepared. Ready for model training.\n"
     ]
    }
   ],
   "source": [
    "# Standardize numerical features\n",
    "scaler = StandardScaler()\n",
    "X_train = scaler.fit_transform(X_train)\n",
    "X_test = scaler.transform(X_test)\n",
    "\n",
    "print(\"Dataset prepared. Ready for model training.\")"
   ]
  },
  {
   "cell_type": "code",
   "execution_count": 39,
   "metadata": {},
   "outputs": [],
   "source": [
    "# Hyper parameter tuning using GridSearhCV\n",
    "param_grid = {\n",
    "    'n_estimators ': [100,200,300],\n",
    "    'max_depth': [10,20,None],\n",
    "    'min_samples_split': [2,5,10],\n",
    "    'min_samples_leaf': [1,2,4]\n",
    "}"
   ]
  },
  {
   "cell_type": "code",
   "execution_count": 40,
   "metadata": {},
   "outputs": [
    {
     "data": {
      "text/html": [
       "<style>#sk-container-id-1 {color: black;background-color: white;}#sk-container-id-1 pre{padding: 0;}#sk-container-id-1 div.sk-toggleable {background-color: white;}#sk-container-id-1 label.sk-toggleable__label {cursor: pointer;display: block;width: 100%;margin-bottom: 0;padding: 0.3em;box-sizing: border-box;text-align: center;}#sk-container-id-1 label.sk-toggleable__label-arrow:before {content: \"▸\";float: left;margin-right: 0.25em;color: #696969;}#sk-container-id-1 label.sk-toggleable__label-arrow:hover:before {color: black;}#sk-container-id-1 div.sk-estimator:hover label.sk-toggleable__label-arrow:before {color: black;}#sk-container-id-1 div.sk-toggleable__content {max-height: 0;max-width: 0;overflow: hidden;text-align: left;background-color: #f0f8ff;}#sk-container-id-1 div.sk-toggleable__content pre {margin: 0.2em;color: black;border-radius: 0.25em;background-color: #f0f8ff;}#sk-container-id-1 input.sk-toggleable__control:checked~div.sk-toggleable__content {max-height: 200px;max-width: 100%;overflow: auto;}#sk-container-id-1 input.sk-toggleable__control:checked~label.sk-toggleable__label-arrow:before {content: \"▾\";}#sk-container-id-1 div.sk-estimator input.sk-toggleable__control:checked~label.sk-toggleable__label {background-color: #d4ebff;}#sk-container-id-1 div.sk-label input.sk-toggleable__control:checked~label.sk-toggleable__label {background-color: #d4ebff;}#sk-container-id-1 input.sk-hidden--visually {border: 0;clip: rect(1px 1px 1px 1px);clip: rect(1px, 1px, 1px, 1px);height: 1px;margin: -1px;overflow: hidden;padding: 0;position: absolute;width: 1px;}#sk-container-id-1 div.sk-estimator {font-family: monospace;background-color: #f0f8ff;border: 1px dotted black;border-radius: 0.25em;box-sizing: border-box;margin-bottom: 0.5em;}#sk-container-id-1 div.sk-estimator:hover {background-color: #d4ebff;}#sk-container-id-1 div.sk-parallel-item::after {content: \"\";width: 100%;border-bottom: 1px solid gray;flex-grow: 1;}#sk-container-id-1 div.sk-label:hover label.sk-toggleable__label {background-color: #d4ebff;}#sk-container-id-1 div.sk-serial::before {content: \"\";position: absolute;border-left: 1px solid gray;box-sizing: border-box;top: 0;bottom: 0;left: 50%;z-index: 0;}#sk-container-id-1 div.sk-serial {display: flex;flex-direction: column;align-items: center;background-color: white;padding-right: 0.2em;padding-left: 0.2em;position: relative;}#sk-container-id-1 div.sk-item {position: relative;z-index: 1;}#sk-container-id-1 div.sk-parallel {display: flex;align-items: stretch;justify-content: center;background-color: white;position: relative;}#sk-container-id-1 div.sk-item::before, #sk-container-id-1 div.sk-parallel-item::before {content: \"\";position: absolute;border-left: 1px solid gray;box-sizing: border-box;top: 0;bottom: 0;left: 50%;z-index: -1;}#sk-container-id-1 div.sk-parallel-item {display: flex;flex-direction: column;z-index: 1;position: relative;background-color: white;}#sk-container-id-1 div.sk-parallel-item:first-child::after {align-self: flex-end;width: 50%;}#sk-container-id-1 div.sk-parallel-item:last-child::after {align-self: flex-start;width: 50%;}#sk-container-id-1 div.sk-parallel-item:only-child::after {width: 0;}#sk-container-id-1 div.sk-dashed-wrapped {border: 1px dashed gray;margin: 0 0.4em 0.5em 0.4em;box-sizing: border-box;padding-bottom: 0.4em;background-color: white;}#sk-container-id-1 div.sk-label label {font-family: monospace;font-weight: bold;display: inline-block;line-height: 1.2em;}#sk-container-id-1 div.sk-label-container {text-align: center;}#sk-container-id-1 div.sk-container {/* jupyter's `normalize.less` sets `[hidden] { display: none; }` but bootstrap.min.css set `[hidden] { display: none !important; }` so we also need the `!important` here to be able to override the default hidden behavior on the sphinx rendered scikit-learn.org. See: https://github.com/scikit-learn/scikit-learn/issues/21755 */display: inline-block !important;position: relative;}#sk-container-id-1 div.sk-text-repr-fallback {display: none;}</style><div id=\"sk-container-id-1\" class=\"sk-top-container\"><div class=\"sk-text-repr-fallback\"><pre>RandomForestClassifier(class_weight=&#x27;balanced&#x27;, n_estimators=300,\n",
       "                       random_state=42)</pre><b>In a Jupyter environment, please rerun this cell to show the HTML representation or trust the notebook. <br />On GitHub, the HTML representation is unable to render, please try loading this page with nbviewer.org.</b></div><div class=\"sk-container\" hidden><div class=\"sk-item\"><div class=\"sk-estimator sk-toggleable\"><input class=\"sk-toggleable__control sk-hidden--visually\" id=\"sk-estimator-id-1\" type=\"checkbox\" checked><label for=\"sk-estimator-id-1\" class=\"sk-toggleable__label sk-toggleable__label-arrow\">RandomForestClassifier</label><div class=\"sk-toggleable__content\"><pre>RandomForestClassifier(class_weight=&#x27;balanced&#x27;, n_estimators=300,\n",
       "                       random_state=42)</pre></div></div></div></div></div>"
      ],
      "text/plain": [
       "RandomForestClassifier(class_weight='balanced', n_estimators=300,\n",
       "                       random_state=42)"
      ]
     },
     "execution_count": 40,
     "metadata": {},
     "output_type": "execute_result"
    }
   ],
   "source": [
    "# Train Random Forest Classifier\n",
    "rf_model = RandomForestClassifier(n_estimators=100, random_state=42, class_weight='balanced')\n",
    "grid_search = GridSearchCV(rf_model, param_grid,cv=3,scoring='accuracy',n_jobs=1)\n",
    "grid_search.fit(X_train,y_train)\n",
    "\n",
    "# best model after tuning\n",
    "rf_model = grid_search.best_estimator_\n",
    "rf_model.fit(X_train, y_train)"
   ]
  },
  {
   "cell_type": "code",
   "execution_count": 41,
   "metadata": {},
   "outputs": [],
   "source": [
    "# Make predictions\n",
    "y_pred = rf_model.predict(X_test)"
   ]
  },
  {
   "cell_type": "code",
   "execution_count": 42,
   "metadata": {},
   "outputs": [
    {
     "name": "stdout",
     "output_type": "stream",
     "text": [
      "Accuracy: 0.8662\n",
      "Classification Report:\n",
      "              precision    recall  f1-score   support\n",
      "\n",
      "           0       0.20      0.25      0.22       215\n",
      "           1       0.86      0.84      0.85      2030\n",
      "           2       0.92      0.92      0.92      3630\n",
      "\n",
      "    accuracy                           0.87      5875\n",
      "   macro avg       0.66      0.67      0.66      5875\n",
      "weighted avg       0.87      0.87      0.87      5875\n",
      "\n"
     ]
    }
   ],
   "source": [
    "# Evaluate model\n",
    "accuracy = accuracy_score(y_test, y_pred)\n",
    "report = classification_report(y_test, y_pred)\n",
    "\n",
    "print(f\"Accuracy: {accuracy:.4f}\")\n",
    "print(\"Classification Report:\")\n",
    "print(report)"
   ]
  }
 ],
 "metadata": {
  "kernelspec": {
   "display_name": "base",
   "language": "python",
   "name": "python3"
  },
  "language_info": {
   "codemirror_mode": {
    "name": "ipython",
    "version": 3
   },
   "file_extension": ".py",
   "mimetype": "text/x-python",
   "name": "python",
   "nbconvert_exporter": "python",
   "pygments_lexer": "ipython3",
   "version": "3.9.18"
  }
 },
 "nbformat": 4,
 "nbformat_minor": 2
}
