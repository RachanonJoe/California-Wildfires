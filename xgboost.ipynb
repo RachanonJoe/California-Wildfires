{
 "cells": [
  {
   "cell_type": "code",
   "execution_count": 4,
   "metadata": {},
   "outputs": [],
   "source": [
    "import pandas as pd\n",
    "from sklearn.model_selection import train_test_split\n",
    "from imblearn.over_sampling import SMOTE\n",
    "from sklearn.preprocessing import LabelEncoder, StandardScaler\n",
    "from xgboost import XGBClassifier\n",
    "from sklearn.model_selection import GridSearchCV\n",
    "from sklearn.metrics import accuracy_score, classification_report"
   ]
  },
  {
   "cell_type": "code",
   "execution_count": 6,
   "metadata": {},
   "outputs": [
    {
     "name": "stderr",
     "output_type": "stream",
     "text": [
      "/var/folders/_1/nrm1y7js22bdlyxkt1mzg_p40000gn/T/ipykernel_89566/3537204748.py:2: DtypeWarning: Columns (13,37,38) have mixed types. Specify dtype option on import or set low_memory=False.\n",
      "  df = pd.read_csv('/Users/rachanon.cho/Documents/Kaggle Practice/California Wildfires/data/cal_wildfire.csv')\n"
     ]
    }
   ],
   "source": [
    "# import data\n",
    "df = pd.read_csv('/Users/rachanon.cho/Documents/Kaggle Practice/California Wildfires/data/cal_wildfire.csv')"
   ]
  },
  {
   "cell_type": "code",
   "execution_count": 7,
   "metadata": {},
   "outputs": [],
   "source": [
    "# Define the target variable\n",
    "TARGET_COLUMN = '* Damage'\n",
    "\n",
    "# Remove 'Inaccessible' entries from target variable\n",
    "df = df[df[TARGET_COLUMN] != 'Inaccessible']\n",
    "\n",
    "# Merge similar damage categories\n",
    "df[TARGET_COLUMN] = df[TARGET_COLUMN].replace(\n",
    "    ['Minor (10-25%)', 'Major (26-50%)', 'Affected (1-9%)'], 'Affected')\n",
    "df[TARGET_COLUMN] = df[TARGET_COLUMN].replace(['Destroyed (>50%)'], 'Destroyed')\n"
   ]
  },
  {
   "cell_type": "code",
   "execution_count": 9,
   "metadata": {},
   "outputs": [],
   "source": [
    "# Encoding target variable (convert labels to numbers)\n",
    "label_encoder = LabelEncoder()\n",
    "df[TARGET_COLUMN] = label_encoder.fit_transform(df[TARGET_COLUMN])\n",
    "\n",
    "# Select relevant features (modify as needed)\n",
    "FEATURE_COLUMNS = ['# Units in Structure (if multi unit)', 'Assessed Improved Value (parcel)', 'Latitude', 'Longitude']\n",
    "df = df[FEATURE_COLUMNS + [TARGET_COLUMN]].dropna()"
   ]
  },
  {
   "cell_type": "code",
   "execution_count": 10,
   "metadata": {},
   "outputs": [],
   "source": [
    "# Split dataset into train and test sets\n",
    "X = df[FEATURE_COLUMNS]\n",
    "y = df[TARGET_COLUMN]\n",
    "X_train, X_test, y_train, y_test = train_test_split(X, y, test_size=0.2, random_state=42, stratify=y)\n"
   ]
  },
  {
   "cell_type": "code",
   "execution_count": 11,
   "metadata": {},
   "outputs": [],
   "source": [
    "# Apply SMOTE to balance classes\n",
    "smote = SMOTE(random_state=42)\n",
    "X_train, y_train = smote.fit_resample(X_train, y_train)"
   ]
  },
  {
   "cell_type": "code",
   "execution_count": 12,
   "metadata": {},
   "outputs": [],
   "source": [
    "# Standardize numerical features\n",
    "scaler = StandardScaler()\n",
    "X_train = scaler.fit_transform(X_train)\n",
    "X_test = scaler.transform(X_test)"
   ]
  },
  {
   "cell_type": "code",
   "execution_count": 13,
   "metadata": {},
   "outputs": [
    {
     "name": "stderr",
     "output_type": "stream",
     "text": [
      "/Users/rachanon.cho/opt/anaconda3/lib/python3.9/site-packages/xgboost/sklearn.py:1395: UserWarning: `use_label_encoder` is deprecated in 1.7.0.\n",
      "  warnings.warn(\"`use_label_encoder` is deprecated in 1.7.0.\")\n"
     ]
    }
   ],
   "source": [
    "# Train Random Forest Classifier\n",
    "# Train XGBoost Classifier\n",
    "xgb_model = XGBClassifier(objective='multi:softmax', eval_metric='mlogloss', use_label_encoder=False)\n",
    "xgb_model.fit(X_train, y_train)\n",
    "\n",
    "# Make predictions\n",
    "y_pred = xgb_model.predict(X_test)"
   ]
  },
  {
   "cell_type": "code",
   "execution_count": 15,
   "metadata": {},
   "outputs": [
    {
     "name": "stdout",
     "output_type": "stream",
     "text": [
      "Accuracy: 0.8313\n",
      "Classification Report:\n",
      "              precision    recall  f1-score   support\n",
      "\n",
      "           0       0.18      0.23      0.20       212\n",
      "           1       0.81      0.80      0.81      2062\n",
      "           2       0.89      0.88      0.89      3601\n",
      "\n",
      "    accuracy                           0.83      5875\n",
      "   macro avg       0.63      0.64      0.63      5875\n",
      "weighted avg       0.84      0.83      0.84      5875\n",
      "\n"
     ]
    }
   ],
   "source": [
    "# Evaluate model\n",
    "accuracy = accuracy_score(y_test, y_pred)\n",
    "report = classification_report(y_test, y_pred)\n",
    "\n",
    "print(f\"Accuracy: {accuracy:.4f}\")\n",
    "print(\"Classification Report:\")\n",
    "print(report)"
   ]
  }
 ],
 "metadata": {
  "kernelspec": {
   "display_name": "base",
   "language": "python",
   "name": "python3"
  },
  "language_info": {
   "codemirror_mode": {
    "name": "ipython",
    "version": 3
   },
   "file_extension": ".py",
   "mimetype": "text/x-python",
   "name": "python",
   "nbconvert_exporter": "python",
   "pygments_lexer": "ipython3",
   "version": "3.9.18"
  }
 },
 "nbformat": 4,
 "nbformat_minor": 2
}
